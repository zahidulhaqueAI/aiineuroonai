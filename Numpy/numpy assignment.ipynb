{
 "cells": [
  {
   "cell_type": "markdown",
   "metadata": {},
   "source": [
    "#### Write a function so that the columns of the output matrix are powers of the input vector.\n",
    "#### The order of the powers is determined by the increasing boolean argument. Specifically, when increasing is False, the i-th output column is the input vector raised element-wise to the power of N - i - 1.\n",
    "#### HINT: Such a matrix with a geometric progression in each row is named for Alexandre-Theophile Vandermonde."
   ]
  },
  {
   "cell_type": "markdown",
   "metadata": {},
   "source": [
    "## Problem Statement"
   ]
  },
  {
   "cell_type": "markdown",
   "metadata": {},
   "source": [
    "Q.1 Given a sequence of n values x1, x2, ..., xn and a window size k>0, the k-th moving average of\n",
    "the given sequence is defined as follows:\n",
    "\n",
    "The moving average sequence has n-k+1 elements as shown below.\n",
    "The moving averages with k=4 of a ten-value sequence (n=10) is shown below\n",
    "\n",
    "    i 1 2 3 4 5 6 7 8 9 10\n",
    "    ===== == == == == == == == == == ==\n",
    "    Input 10 20 30 40 50 60 70 80 90 100\n",
    "    y1 25 = (10+20+30+40)/4\n",
    "    y2 35 = (20+30+40+50)/4\n",
    "    y3 45 = (30+40+50+60)/4\n",
    "    y4 55 = (40+50+60+70)/4\n",
    "    y5 65 = (50+60+70+80)/4\n",
    "    y6 75 = (60+70+80+90)/4\n",
    "    y7 85 = (70+80+90+100)/4\n",
    "\n",
    "Thus, the moving average sequence has n-k+1=10-4+1=7 values.\n",
    "\n",
    "Write a function to find moving average in an array over a window:\n",
    "\n",
    "Test it over [3, 5, 7, 2, 8, 10, 11, 65, 72, 81, 99, 100, 150] and window of 3."
   ]
  },
  {
   "cell_type": "code",
   "execution_count": 1,
   "metadata": {},
   "outputs": [],
   "source": [
    "# n = 13 k = 3 => y = 1...11\n",
    "word = [3, 5, 7, 2, 8, 10, 11, 65, 72, 81, 99, 100, 150]\n",
    "# this method is used for displaying purpose.It is called before the main method. The out put will be\n",
    "#i 1 2 3 4 5 6 7 8 9 10 11 12 13\n",
    "#===== == == == == == == == == == == == ==\n",
    "#Input 3 5 7 2 8 10 11 65 72 81 99 100 150 \n",
    "\n",
    "def util(word):\n",
    "    print(\"i 1 2 3 4 5 6 7 8 9 10 11 12 13\", end='\\n')\n",
    "    print(\"===== == == == == == == == == == == == ==\", end='\\n')\n",
    "    print(\"Input \", end='')\n",
    "    for i in word:\n",
    "        print(i, end=' ')\n",
    "    print()"
   ]
  },
  {
   "cell_type": "code",
   "execution_count": 64,
   "metadata": {},
   "outputs": [
    {
     "name": "stdout",
     "output_type": "stream",
     "text": [
      "i 1 2 3 4 5 6 7 8 9 10 11 12 13\n",
      "===== == == == == == == == == == == == ==\n",
      "Input 3 5 7 2 8 10 11 65 72 81 99 100 150 \n",
      "\n",
      "y1 5 = (3+5+7)/3 \n",
      "y2 4 = (5+7+2)/3 \n",
      "y3 5 = (7+2+8)/3 \n",
      "y4 6 = (2+8+10)/3 \n",
      "y5 9 = (8+10+11)/3 \n",
      "y6 28 = (10+11+65)/3 \n",
      "y7 49 = (11+65+72)/3 \n",
      "y8 72 = (65+72+81)/3 \n",
      "y9 84 = (72+81+99)/3 \n",
      "y10 93 = (81+99+100)/3 \n",
      "y11 116 = (99+100+150)/3 "
     ]
    }
   ],
   "source": [
    "util(word)\n",
    "def moving_average_sequence(word,window):\n",
    "    sequence_size = len(word)\n",
    "    size = sequence_size - window + 1\n",
    "    lst = []\n",
    "    # for holding sum\n",
    "    x = 0\n",
    "    for j in range(1,12):\n",
    "        print()\n",
    "        # re-initialized to 0\n",
    "        x = 0\n",
    "        y = 'y'\n",
    "        Str = ''\n",
    "        # no business logic.Just for displaying purpose\n",
    "        y += str(j)\n",
    "        print(y, end=' ')\n",
    "        for i in range(j-1,j+2):\n",
    "            # populate the list so that it can be used for displaying purpose\n",
    "            lst.append(word[i])\n",
    "            x += word[i]\n",
    "        x /= 3\n",
    "        # this logic is for getting into this format 3+5+7+.This is not a busniness logic, but only for prnting\n",
    "        for j in lst:\n",
    "            Str += str(j)+'+'\n",
    "        print(str(int(x)) + ' = ('+Str[:-1]+')/'+str(window), end=' ')\n",
    "        # empty the list\n",
    "        lst = []\n",
    "        \n",
    "moving_average_sequence(word,3)"
   ]
  },
  {
   "cell_type": "code",
   "execution_count": null,
   "metadata": {},
   "outputs": [],
   "source": []
  },
  {
   "cell_type": "code",
   "execution_count": null,
   "metadata": {},
   "outputs": [],
   "source": []
  }
 ],
 "metadata": {
  "kernelspec": {
   "display_name": "Python 3",
   "language": "python",
   "name": "python3"
  },
  "language_info": {
   "codemirror_mode": {
    "name": "ipython",
    "version": 3
   },
   "file_extension": ".py",
   "mimetype": "text/x-python",
   "name": "python",
   "nbconvert_exporter": "python",
   "pygments_lexer": "ipython3",
   "version": "3.6.5"
  }
 },
 "nbformat": 4,
 "nbformat_minor": 2
}
