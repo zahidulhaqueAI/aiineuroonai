{
 "cells": [
  {
   "cell_type": "markdown",
   "metadata": {},
   "source": [
    "#### 1.1 Write a Python Program(with class concepts) to find the area of the triangle using the below formula.\n",
    "####  area = (s*(s-a)*(s-b)*(s-c)) ** 0.5\n",
    "####  Function to take the length of the sides of triangle from user should be defined in the parent class and function to calculate the area should be defined in subclass."
   ]
  },
  {
   "cell_type": "code",
   "execution_count": 1,
   "metadata": {},
   "outputs": [],
   "source": [
    "# base class\n",
    "class shape:\n",
    "    # constructor\n",
    "    def __init__(self,__length, __breath,__height):\n",
    "        self.__length = __length\n",
    "        self.__breath = __breath\n",
    "        self.__height = __height\n",
    "    \n",
    "    # protected methods\n",
    "    def _getLength(self):\n",
    "        return self.__length\n",
    "    \n",
    "    def _getBreath(self):\n",
    "        return self.__breath\n",
    "    \n",
    "    def _getHeight(self):\n",
    "        return self.__height\n",
    "    \n",
    "    def _semiperimeter(self):\n",
    "        return (self.__length + self.__breath + self.__height)/2.0"
   ]
  },
  {
   "cell_type": "code",
   "execution_count": 2,
   "metadata": {},
   "outputs": [],
   "source": [
    "# subclass\n",
    "class triangle(shape):\n",
    "    def area(self):\n",
    "        s = self._semiperimeter()\n",
    "        a = self._getLength()\n",
    "        b = self._getBreath()\n",
    "        c = self._getHeight()\n",
    "        # calclate the area\n",
    "        area = (s*(s-a)*(s-b)*(s-c))\n",
    "        return pow(area,0.5)"
   ]
  },
  {
   "cell_type": "code",
   "execution_count": 3,
   "metadata": {},
   "outputs": [
    {
     "name": "stdout",
     "output_type": "stream",
     "text": [
      "1.479019945774904\n"
     ]
    }
   ],
   "source": [
    "x = triangle(1,3,3)\n",
    "print(x.area())"
   ]
  },
  {
   "cell_type": "markdown",
   "metadata": {},
   "source": [
    "#### 1.2 Write a function filter_long_words() that takes a list of words and an integer n and returns the list of words that are longer than n."
   ]
  },
  {
   "cell_type": "code",
   "execution_count": 4,
   "metadata": {},
   "outputs": [],
   "source": [
    "def filter_long_words(mylist,n):\n",
    "    # list to hold the words\n",
    "    list1 = []\n",
    "    for val in myList:\n",
    "        if len(val) > n:\n",
    "            list1.append(val)\n",
    "    return list1"
   ]
  },
  {
   "cell_type": "code",
   "execution_count": 5,
   "metadata": {},
   "outputs": [
    {
     "name": "stdout",
     "output_type": "stream",
     "text": [
      "['iNeuron iNtelligence', 'world map', 'hello world!']\n"
     ]
    }
   ],
   "source": [
    "myList = ['zahid','cerner','Indians','iNeuron iNtelligence','canvas', 'world map','hello world!']\n",
    "list1 = filter_long_words(myList,7)\n",
    "print(list1)"
   ]
  },
  {
   "cell_type": "markdown",
   "metadata": {},
   "source": [
    "#### 2.1 Write a Python program using function concept that maps list of words into a list of integers representing the lengths of the corresponding words.\n",
    "#### Hint: If a list [ ab,cde,erty] is passed on to the python function output should come as [2,3,4]\n",
    "#### Here 2,3 and 4 are the lengths of the words in the list."
   ]
  },
  {
   "cell_type": "code",
   "execution_count": 6,
   "metadata": {},
   "outputs": [],
   "source": [
    "def wordToLen(mylist):\n",
    "    # list to hold the index's length\n",
    "    list1 = []\n",
    "    for val in mylist:\n",
    "        list1.append(len(val))\n",
    "    return list1"
   ]
  },
  {
   "cell_type": "code",
   "execution_count": 7,
   "metadata": {},
   "outputs": [
    {
     "name": "stdout",
     "output_type": "stream",
     "text": [
      "[5, 6, 7, 20, 6, 9, 12]\n"
     ]
    }
   ],
   "source": [
    "myList = ['zahid','cerner','Indians','iNeuron iNtelligence','canvas', 'world map','hello world!']\n",
    "print(wordToLen(myList))"
   ]
  },
  {
   "cell_type": "markdown",
   "metadata": {},
   "source": [
    "#### 2.2 Write a Python function which takes a character (i.e. a string of length 1) and returns True if it is a vowel, False otherwise."
   ]
  },
  {
   "cell_type": "code",
   "execution_count": 8,
   "metadata": {},
   "outputs": [],
   "source": [
    "def checkVowel(char):\n",
    "    vowel = ['a', 'e','i','o','u']\n",
    "    if char in vowel:\n",
    "        return True\n",
    "    return False"
   ]
  },
  {
   "cell_type": "code",
   "execution_count": 9,
   "metadata": {},
   "outputs": [
    {
     "name": "stdout",
     "output_type": "stream",
     "text": [
      "True\n"
     ]
    }
   ],
   "source": [
    "print(checkVowel('a'))"
   ]
  },
  {
   "cell_type": "code",
   "execution_count": null,
   "metadata": {},
   "outputs": [],
   "source": []
  }
 ],
 "metadata": {
  "kernelspec": {
   "display_name": "Python 3",
   "language": "python",
   "name": "python3"
  },
  "language_info": {
   "codemirror_mode": {
    "name": "ipython",
    "version": 3
   },
   "file_extension": ".py",
   "mimetype": "text/x-python",
   "name": "python",
   "nbconvert_exporter": "python",
   "pygments_lexer": "ipython3",
   "version": "3.6.5"
  }
 },
 "nbformat": 4,
 "nbformat_minor": 2
}
