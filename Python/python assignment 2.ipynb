{
 "cells": [
  {
   "cell_type": "markdown",
   "metadata": {},
   "source": [
    "#### Q1. 1. Create the below pattern using nested for loop in Python.\n",
    "\n",
    "                        *\n",
    "                        * *\n",
    "                        * * *\n",
    "                        * * * *\n",
    "                        * * * * *\n",
    "                        * * * *\n",
    "                        * * *\n",
    "                        * *\n",
    "                        *"
   ]
  },
  {
   "cell_type": "code",
   "execution_count": 1,
   "metadata": {},
   "outputs": [
    {
     "name": "stdout",
     "output_type": "stream",
     "text": [
      "* \n",
      "* * \n",
      "* * * \n",
      "* * * * \n",
      "* * * * * \n",
      "* * * * \n",
      "* * * \n",
      "* * \n",
      "* \n",
      "\n"
     ]
    }
   ],
   "source": [
    "# we can divide this problem into two triangles. \n",
    "# 1st half right angled trianle\n",
    "# 2nd half inverted right angled triangle\n",
    "rows = 5\n",
    "for row in range(0,rows):\n",
    "    # if we see the 1st half right angled trianle pattern,'*' => row = column\n",
    "    for col in range(0,row+1):\n",
    "        print('*', end=' ')\n",
    "    # for printing new line\n",
    "    print()\n",
    "# 2nd half to print the inverted right angled triangle\n",
    "for row in range(rows, 0, -1):\n",
    "    for col in range(0, row -1):\n",
    "        print(\"*\", end=' ')\n",
    "    print()"
   ]
  },
  {
   "cell_type": "markdown",
   "metadata": {},
   "source": [
    "#### Q2. Write a Python program to reverse a word after accepting the input from the user."
   ]
  },
  {
   "cell_type": "code",
   "execution_count": 2,
   "metadata": {},
   "outputs": [],
   "source": [
    "def reverse(words):\n",
    "    length = len(words)\n",
    "    for i in range(length, 0, -1):\n",
    "        print(words[i-1],end='')"
   ]
  },
  {
   "cell_type": "code",
   "execution_count": 3,
   "metadata": {},
   "outputs": [
    {
     "name": "stdout",
     "output_type": "stream",
     "text": [
      "Enter the words you want to reverse: ineuron\n",
      "norueni"
     ]
    }
   ],
   "source": [
    "words = input(\"Enter the words you want to reverse: \")\n",
    "reverse(words)"
   ]
  },
  {
   "cell_type": "code",
   "execution_count": 4,
   "metadata": {},
   "outputs": [
    {
     "name": "stdout",
     "output_type": "stream",
     "text": [
      "Enter the words you want to reverse: ineuron\n"
     ]
    },
    {
     "data": {
      "text/plain": [
       "'norueni'"
      ]
     },
     "execution_count": 4,
     "metadata": {},
     "output_type": "execute_result"
    }
   ],
   "source": [
    "# another approach would be to use built in function\n",
    "words = input(\"Enter the words you want to reverse: \")\n",
    "words[::-1]"
   ]
  },
  {
   "cell_type": "code",
   "execution_count": null,
   "metadata": {},
   "outputs": [],
   "source": []
  }
 ],
 "metadata": {
  "kernelspec": {
   "display_name": "Python 3",
   "language": "python",
   "name": "python3"
  },
  "language_info": {
   "codemirror_mode": {
    "name": "ipython",
    "version": 3
   },
   "file_extension": ".py",
   "mimetype": "text/x-python",
   "name": "python",
   "nbconvert_exporter": "python",
   "pygments_lexer": "ipython3",
   "version": "3.6.5"
  }
 },
 "nbformat": 4,
 "nbformat_minor": 2
}
