{
 "cells": [
  {
   "cell_type": "markdown",
   "metadata": {},
   "source": [
    "#### Q1. Write a program which will find all such numbers which are divisible by 7 but are not a multiple of 5, between 2000 and 3200 (both included). The numbers obtained should be printed in a comma-separated sequence on a single line."
   ]
  },
  {
   "cell_type": "code",
   "execution_count": 1,
   "metadata": {},
   "outputs": [],
   "source": [
    "def MultipleOf7(lowerLimit, upperLimit):\n",
    "    # for holding the result\n",
    "    result = []\n",
    "    for num in range(lowerLimit, upperLimit+1):\n",
    "        if ((num % 7 == 0) and (num %5 != 0)):\n",
    "            result.append(num)\n",
    "    return result    "
   ]
  },
  {
   "cell_type": "code",
   "execution_count": 2,
   "metadata": {},
   "outputs": [
    {
     "name": "stdout",
     "output_type": "stream",
     "text": [
      "[2002, 2009, 2016, 2023, 2037, 2044, 2051, 2058, 2072, 2079, 2086, 2093, 2107, 2114, 2121, 2128, 2142, 2149, 2156, 2163, 2177, 2184, 2191, 2198, 2212, 2219, 2226, 2233, 2247, 2254, 2261, 2268, 2282, 2289, 2296, 2303, 2317, 2324, 2331, 2338, 2352, 2359, 2366, 2373, 2387, 2394, 2401, 2408, 2422, 2429, 2436, 2443, 2457, 2464, 2471, 2478, 2492, 2499, 2506, 2513, 2527, 2534, 2541, 2548, 2562, 2569, 2576, 2583, 2597, 2604, 2611, 2618, 2632, 2639, 2646, 2653, 2667, 2674, 2681, 2688, 2702, 2709, 2716, 2723, 2737, 2744, 2751, 2758, 2772, 2779, 2786, 2793, 2807, 2814, 2821, 2828, 2842, 2849, 2856, 2863, 2877, 2884, 2891, 2898, 2912, 2919, 2926, 2933, 2947, 2954, 2961, 2968, 2982, 2989, 2996, 3003, 3017, 3024, 3031, 3038, 3052, 3059, 3066, 3073, 3087, 3094, 3101, 3108, 3122, 3129, 3136, 3143, 3157, 3164, 3171, 3178, 3192, 3199] "
     ]
    }
   ],
   "source": [
    "result = MultipleOf7(2000,3200)\n",
    "print(result, end=\" \")"
   ]
  },
  {
   "cell_type": "markdown",
   "metadata": {},
   "source": [
    "#### Q2. Write a Python program to accept the user's first and last name and then getting them printed in the the reverse order with a space between first name and last name."
   ]
  },
  {
   "cell_type": "code",
   "execution_count": 3,
   "metadata": {},
   "outputs": [],
   "source": [
    "import re\n",
    "\n",
    "def userInfo():\n",
    "    # used to check if name contains any numeric value\n",
    "    numeric_value = False\n",
    "    \n",
    "    # get user information\n",
    "    firstName = input(\"Please enter first name: \")\n",
    "    lastName  = input(\"Please enter last name: \")\n",
    "    \n",
    "    numeric_value = (bool(re.match('^(.*[0-9])',firstName))) or (bool(re.match('^(.*[0-9])',lastName)))\n",
    "    \n",
    "    # type checking\n",
    "    if (numeric_value):\n",
    "        print('Not a valid name.Name can\\'t contain numeric value')\n",
    "        return\n",
    "    print(lastName,firstName)"
   ]
  },
  {
   "cell_type": "code",
   "execution_count": 4,
   "metadata": {},
   "outputs": [
    {
     "name": "stdout",
     "output_type": "stream",
     "text": [
      "Please enter first name: Zahidul\n",
      "Please enter last name: Haque\n",
      "Haque Zahidul\n"
     ]
    }
   ],
   "source": [
    "userInfo()"
   ]
  },
  {
   "cell_type": "markdown",
   "metadata": {},
   "source": [
    "#### Q3. Write a Python program to find the volume of a sphere with diameter 12 cm.\n",
    "Formula: V=4/3 * π * r3"
   ]
  },
  {
   "cell_type": "code",
   "execution_count": 5,
   "metadata": {},
   "outputs": [],
   "source": [
    "# import the resourse\n",
    "import math"
   ]
  },
  {
   "cell_type": "code",
   "execution_count": 6,
   "metadata": {},
   "outputs": [],
   "source": [
    "def getRadius():\n",
    "    try:\n",
    "        radius = int(input(\"Enter the raius: \"))\n",
    "        return radius\n",
    "    except Exception as e:\n",
    "        print(type(e).__name__,\" : Radius can't be in string.\")"
   ]
  },
  {
   "cell_type": "code",
   "execution_count": 7,
   "metadata": {},
   "outputs": [],
   "source": [
    "def volume():\n",
    "    # initialize valume\n",
    "    volume = 0\n",
    "    radius = getRadius()\n",
    "    if (radius == None):\n",
    "        print(\"Radius cann't be empty.\")\n",
    "        return\n",
    "    volume = (4.0/3.0)*math.pi*pow(radius,3)\n",
    "    # format till 4th decimal place and then change to float\n",
    "    volume = float(\"{:.4f}\".format(volume))\n",
    "    return volume"
   ]
  },
  {
   "cell_type": "code",
   "execution_count": 8,
   "metadata": {},
   "outputs": [
    {
     "name": "stdout",
     "output_type": "stream",
     "text": [
      "Enter the raius: 4\n"
     ]
    },
    {
     "data": {
      "text/plain": [
       "268.0826"
      ]
     },
     "execution_count": 8,
     "metadata": {},
     "output_type": "execute_result"
    }
   ],
   "source": [
    "volume()"
   ]
  },
  {
   "cell_type": "code",
   "execution_count": null,
   "metadata": {},
   "outputs": [],
   "source": []
  }
 ],
 "metadata": {
  "kernelspec": {
   "display_name": "Python 3",
   "language": "python",
   "name": "python3"
  },
  "language_info": {
   "codemirror_mode": {
    "name": "ipython",
    "version": 3
   },
   "file_extension": ".py",
   "mimetype": "text/x-python",
   "name": "python",
   "nbconvert_exporter": "python",
   "pygments_lexer": "ipython3",
   "version": "3.6.5"
  }
 },
 "nbformat": 4,
 "nbformat_minor": 2
}
