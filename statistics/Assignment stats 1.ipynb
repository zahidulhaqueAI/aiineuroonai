{
 "cells": [
  {
   "cell_type": "markdown",
   "metadata": {},
   "source": [
    "Calculate the mean, median, mode and standard deviation for the problem\n",
    "statements 1& 2."
   ]
  },
  {
   "cell_type": "markdown",
   "metadata": {},
   "source": [
    "Problem Statement 1:\n",
    "\n",
    "The marks awarded for an assignment set for a Year 8 class of 20 students were as follows:\n",
    "\n",
    "6 7 5 7 7 8 7 6 9 7 4 10 6 8 8 9 5 6 4 8"
   ]
  },
  {
   "cell_type": "code",
   "execution_count": 49,
   "metadata": {},
   "outputs": [],
   "source": [
    "from scipy import stats\n",
    "import numpy as np\n",
    "import pandas as pd\n",
    "import statistics as st\n",
    "import math"
   ]
  },
  {
   "cell_type": "markdown",
   "metadata": {},
   "source": [
    " Formulas for calculating these are as follows:\n",
    " \n",
    " N : sample size\n",
    " \n",
    " mean = (1/N) * $\\sum_{i=0}^N x_i$\n",
    " \n",
    " median:\n",
    " \n",
    " Case I) When n is odd:\n",
    " \n",
    " median =  $x_i$\n",
    " \n",
    " Case II) When n is even:\n",
    " \n",
    " median = ($x_i$ + $x_{i+1}$)/2\n",
    " \n",
    " mean: value that occurs the most frequently\n",
    " \n",
    " variance ($\\sigma^{2}$) = (1/N) * ${\\sum_{i=0}^N ({x_i - \\bar x}})^2$ \n",
    " \n",
    " standard deviation ($\\sigma$) = $\\sqrt{variance}$\n"
   ]
  },
  {
   "cell_type": "code",
   "execution_count": 32,
   "metadata": {},
   "outputs": [
    {
     "data": {
      "text/plain": [
       "6.85"
      ]
     },
     "execution_count": 32,
     "metadata": {},
     "output_type": "execute_result"
    }
   ],
   "source": [
    "data = [6, 7, 5, 7, 7, 8, 7, 6, 9, 7, 4, 10, 6, 8, 8, 9, 5, 6, 4, 8]\n",
    "# sum = summation of data = 137\n",
    "n = 20\n",
    "sum = 137\n",
    "mean = sum /n\n",
    "mean"
   ]
  },
  {
   "cell_type": "code",
   "execution_count": 33,
   "metadata": {},
   "outputs": [
    {
     "data": {
      "text/plain": [
       "[4, 4, 5, 5, 6, 6, 6, 6, 7, 7, 7, 7, 7, 8, 8, 8, 8, 9, 9, 10]"
      ]
     },
     "execution_count": 33,
     "metadata": {},
     "output_type": "execute_result"
    }
   ],
   "source": [
    "# mode : arrange the data in ascending order\n",
    "data.sort()\n",
    "data"
   ]
  },
  {
   "cell_type": "markdown",
   "metadata": {},
   "source": [
    "### mode = 7, as frequency of occrrance is 5"
   ]
  },
  {
   "cell_type": "code",
   "execution_count": 34,
   "metadata": {},
   "outputs": [
    {
     "data": {
      "text/plain": [
       "ModeResult(mode=array([7]), count=array([5]))"
      ]
     },
     "execution_count": 34,
     "metadata": {},
     "output_type": "execute_result"
    }
   ],
   "source": [
    "# using stats formula\n",
    "stats.mode(data)"
   ]
  },
  {
   "cell_type": "markdown",
   "metadata": {},
   "source": [
    "### Median "
   ]
  },
  {
   "cell_type": "code",
   "execution_count": 35,
   "metadata": {},
   "outputs": [
    {
     "data": {
      "text/plain": [
       "[4, 4, 5, 5, 6, 6, 6, 6, 7, 7, 7, 7, 7, 8, 8, 8, 8, 9, 9, 10]"
      ]
     },
     "execution_count": 35,
     "metadata": {},
     "output_type": "execute_result"
    }
   ],
   "source": [
    "data.sort()\n",
    "data"
   ]
  },
  {
   "cell_type": "code",
   "execution_count": 45,
   "metadata": {},
   "outputs": [
    {
     "data": {
      "text/plain": [
       "7.0"
      ]
     },
     "execution_count": 45,
     "metadata": {},
     "output_type": "execute_result"
    }
   ],
   "source": [
    "mid = (int)(n /2)\n",
    "d1 = data[mid]\n",
    "d2 = data[mid+1]\n",
    "median = (d1 + d2)/2\n",
    "median"
   ]
  },
  {
   "cell_type": "markdown",
   "metadata": {},
   "source": [
    "### using statistics module"
   ]
  },
  {
   "cell_type": "code",
   "execution_count": 46,
   "metadata": {},
   "outputs": [
    {
     "data": {
      "text/plain": [
       "7.0"
      ]
     },
     "execution_count": 46,
     "metadata": {},
     "output_type": "execute_result"
    }
   ],
   "source": [
    "data = [6, 7, 5, 7, 7, 8, 7, 6, 9, 7, 4, 10, 6, 8, 8, 9, 5, 6, 4, 8]\n",
    "st.median(data)"
   ]
  },
  {
   "cell_type": "markdown",
   "metadata": {},
   "source": [
    "### Standard Deviation\n",
    "\n",
    "#### variance ($\\sigma^{2}$) = (1/N) * ${\\sum_{i=0}^N ({x_i - \\bar x}})^2$ \n",
    " \n",
    "#### standard deviation ($\\sigma$) = $\\sqrt{variance}$\n"
   ]
  },
  {
   "cell_type": "code",
   "execution_count": 117,
   "metadata": {},
   "outputs": [],
   "source": [
    "def sumAndSquare(x, midVal):\n",
    "    sum = 0\n",
    "    for val in x:\n",
    "        presentVal = (val - midVal)\n",
    "        presentVal = presentVal **2\n",
    "        sum = sum + presentVal\n",
    "        yield sum"
   ]
  },
  {
   "cell_type": "code",
   "execution_count": 120,
   "metadata": {},
   "outputs": [
    {
     "data": {
      "text/plain": [
       "50.550000000000004"
      ]
     },
     "execution_count": 120,
     "metadata": {},
     "output_type": "execute_result"
    }
   ],
   "source": [
    "result = 0\n",
    "for x in sumAndSquare(data, mean):\n",
    "    result = x\n",
    "result"
   ]
  },
  {
   "cell_type": "code",
   "execution_count": 122,
   "metadata": {},
   "outputs": [
    {
     "data": {
      "text/plain": [
       "2.5275000000000003"
      ]
     },
     "execution_count": 122,
     "metadata": {},
     "output_type": "execute_result"
    }
   ],
   "source": [
    "varriance = result / n\n",
    "varriance"
   ]
  },
  {
   "cell_type": "code",
   "execution_count": 123,
   "metadata": {},
   "outputs": [
    {
     "data": {
      "text/plain": [
       "1.5898113095584647"
      ]
     },
     "execution_count": 123,
     "metadata": {},
     "output_type": "execute_result"
    }
   ],
   "source": [
    "std = math.sqrt(varriance)\n",
    "std"
   ]
  },
  {
   "cell_type": "markdown",
   "metadata": {},
   "source": [
    "#### Problem Statement 2:\n",
    "##### The number of calls from motorists per day for roadside service was recorded for a particular month: \n",
    "28, 122, 217, 130, 120, 86, 80, 90, 140, 120, 70, 40, 145, 113, 90, 68, 174, 194, 170, 100, 75, 104, 97, 75, 123, 100, 75, 104, 97, 75, 123, 100, 89, 120, 109"
   ]
  },
  {
   "cell_type": "code",
   "execution_count": 264,
   "metadata": {},
   "outputs": [],
   "source": [
    "data = [28, 122, 217, 130, 120, 86, 80, 90, 140, 120, 70, 40, 145, 113, 90, 68, 174, 194, 170, 100, 75, 104, 97, 75, 123, 100, 75, 104, 97, 75, 123, 100, 89, 120, 109]"
   ]
  },
  {
   "cell_type": "code",
   "execution_count": 252,
   "metadata": {},
   "outputs": [
    {
     "data": {
      "text/plain": [
       "35"
      ]
     },
     "execution_count": 252,
     "metadata": {},
     "output_type": "execute_result"
    }
   ],
   "source": [
    "len(data)"
   ]
  },
  {
   "cell_type": "code",
   "execution_count": 289,
   "metadata": {},
   "outputs": [],
   "source": [
    "def Mean(data):\n",
    "    sum = 0\n",
    "    for val in data:\n",
    "        sum = sum + val\n",
    "    return sum/len(data)        "
   ]
  },
  {
   "cell_type": "code",
   "execution_count": 290,
   "metadata": {},
   "outputs": [
    {
     "data": {
      "text/plain": [
       "107.51428571428572"
      ]
     },
     "execution_count": 290,
     "metadata": {},
     "output_type": "execute_result"
    }
   ],
   "source": [
    "Mean(data)"
   ]
  },
  {
   "cell_type": "code",
   "execution_count": 263,
   "metadata": {},
   "outputs": [],
   "source": [
    "def mode(data):\n",
    "    count = 0\n",
    "    # keep the count of max frequency\n",
    "    maxCount = 0\n",
    "    item = 0\n",
    "    length = len(data)\n",
    "    # sort the data\n",
    "    data.sort()\n",
    "    # iterate\n",
    "    index = 0\n",
    "    for index in range(length):\n",
    "        if( ((index+1) != length) and (data[index] == data[index+1]) ):\n",
    "            count = count + 1;\n",
    "            if(count > maxCount):\n",
    "                maxCount = count\n",
    "                item = data[index]\n",
    "        else :            \n",
    "            count = 0\n",
    "            count = count + 1\n",
    "            \n",
    "    return maxCount, item\n",
    "        \n",
    "        "
   ]
  },
  {
   "cell_type": "code",
   "execution_count": 256,
   "metadata": {},
   "outputs": [
    {
     "name": "stdout",
     "output_type": "stream",
     "text": [
      "4 75\n"
     ]
    }
   ],
   "source": [
    "count, val = mode(data)\n",
    "print(count, val)"
   ]
  },
  {
   "cell_type": "markdown",
   "metadata": {},
   "source": [
    "#### Mode = 75"
   ]
  },
  {
   "cell_type": "code",
   "execution_count": 257,
   "metadata": {},
   "outputs": [
    {
     "data": {
      "text/plain": [
       "75"
      ]
     },
     "execution_count": 257,
     "metadata": {},
     "output_type": "execute_result"
    }
   ],
   "source": [
    "# verifying using staticstics module\n",
    "st.mode(data)"
   ]
  },
  {
   "cell_type": "code",
   "execution_count": 275,
   "metadata": {},
   "outputs": [],
   "source": [
    "def Median(data):\n",
    "    # sort the data\n",
    "    data.sort()\n",
    "    #get the size\n",
    "    size = len(data)\n",
    "    # if odd length\n",
    "    if(size % 2 != 0):\n",
    "        # get the mid index\n",
    "        # get the index\n",
    "        mid = math.floor(size/2)\n",
    "        return data[mid]\n",
    "    else:\n",
    "        # get mid and mid+1 data\n",
    "        mid = size/2\n",
    "        nxt = mid+1\n",
    "        d1 = data[mid]\n",
    "        d2 = data[nxt]\n",
    "        return (d1 + d2)/2.0"
   ]
  },
  {
   "cell_type": "code",
   "execution_count": 276,
   "metadata": {},
   "outputs": [
    {
     "name": "stdout",
     "output_type": "stream",
     "text": [
      "100\n"
     ]
    }
   ],
   "source": [
    "print(Median(data))"
   ]
  },
  {
   "cell_type": "markdown",
   "metadata": {},
   "source": [
    "#### Median = 100"
   ]
  },
  {
   "cell_type": "code",
   "execution_count": 274,
   "metadata": {},
   "outputs": [
    {
     "data": {
      "text/plain": [
       "100"
      ]
     },
     "execution_count": 274,
     "metadata": {},
     "output_type": "execute_result"
    }
   ],
   "source": [
    "# comparing with the statistics module\n",
    "st.median(data)"
   ]
  },
  {
   "cell_type": "code",
   "execution_count": 337,
   "metadata": {},
   "outputs": [],
   "source": [
    "# calculate varriance\n",
    "def Varriance(data, Mean, str):\n",
    "    sum = 0\n",
    "    for val in data:\n",
    "        presentVal = (val - Mean)\n",
    "        presentVal = math.pow(presentVal,2)\n",
    "        sum = sum + presentVal\n",
    "    if(str == 'population'):\n",
    "        return sum/len(data)\n",
    "    else:\n",
    "        return sum/(len(data)-1)"
   ]
  },
  {
   "cell_type": "code",
   "execution_count": 318,
   "metadata": {},
   "outputs": [
    {
     "name": "stdout",
     "output_type": "stream",
     "text": [
      "1503.3355102040816\n"
     ]
    }
   ],
   "source": [
    "print(Varriance(data, Mean(data), 'population'))"
   ]
  },
  {
   "cell_type": "code",
   "execution_count": 321,
   "metadata": {},
   "outputs": [
    {
     "data": {
      "text/plain": [
       "1547.5512605042018"
      ]
     },
     "execution_count": 321,
     "metadata": {},
     "output_type": "execute_result"
    }
   ],
   "source": [
    "# varriance for sample\n",
    "var = Varriance(data, Mean(data), 'sample')\n",
    "var"
   ]
  },
  {
   "cell_type": "code",
   "execution_count": 322,
   "metadata": {},
   "outputs": [
    {
     "data": {
      "text/plain": [
       "39.33892805484412"
      ]
     },
     "execution_count": 322,
     "metadata": {},
     "output_type": "execute_result"
    }
   ],
   "source": [
    "std = math.sqrt(var)\n",
    "std"
   ]
  },
  {
   "cell_type": "markdown",
   "metadata": {},
   "source": [
    "### standard deviation = 39.33892805484412"
   ]
  },
  {
   "cell_type": "code",
   "execution_count": 324,
   "metadata": {},
   "outputs": [
    {
     "data": {
      "text/plain": [
       "1547.5512605042018"
      ]
     },
     "execution_count": 324,
     "metadata": {},
     "output_type": "execute_result"
    }
   ],
   "source": [
    "# comparing the result with the statistics module\n",
    "st.variance(data)"
   ]
  },
  {
   "cell_type": "code",
   "execution_count": 325,
   "metadata": {},
   "outputs": [
    {
     "data": {
      "text/plain": [
       "39.33892805484412"
      ]
     },
     "execution_count": 325,
     "metadata": {},
     "output_type": "execute_result"
    }
   ],
   "source": [
    "st.stdev(data)"
   ]
  },
  {
   "cell_type": "markdown",
   "metadata": {},
   "source": [
    "### Problem Statement 3:\n",
    "#### The number of times I go to the gym in weekdays, are given below along with its associated probability: \n",
    "x = 0, 1, 2, 3, 4, 5 \n",
    "f(x) = 0.09, 0.15, 0.40, 0.25, 0.10, 0.01 \n",
    "Calculate the mean no. of workouts in a week. Also evaluate the variance involved in it."
   ]
  },
  {
   "cell_type": "markdown",
   "metadata": {},
   "source": [
    "Let x = # of workouts in a week\n",
    "    E(x) = expected value of x\n",
    "    x     p(x)\n",
    "    0     0.09\n",
    "    1     0.15\n",
    "    2     0.40\n",
    "    3     0.25\n",
    "    4     0.10\n",
    "    5     0.01"
   ]
  },
  {
   "cell_type": "code",
   "execution_count": 328,
   "metadata": {},
   "outputs": [],
   "source": [
    "#E(X) = x * p(x)\n",
    "#E(X) = 0*0.09 + 1 * 0.15 + 2*0.40 + 3*0.25 + 4*0.10 + 5*0.01\n",
    "#     = 2.15\n",
    "# mean no. of workouts in a week = 2.15\n",
    "mean = 2.15"
   ]
  },
  {
   "cell_type": "code",
   "execution_count": 342,
   "metadata": {},
   "outputs": [
    {
     "data": {
      "text/plain": [
       "1.2275"
      ]
     },
     "execution_count": 342,
     "metadata": {},
     "output_type": "execute_result"
    }
   ],
   "source": [
    "p = [0.09, 0.15, 0.40, 0.25, 0.10, 0.01]\n",
    "variance = (0-2.15)**2 * 0.09 + (1 - 2.15)**2 *0.15 + (2 - 2.15)**2 *0.40 + (3 - 2.15)**2 *0.25 + (4 - 2.15)**2 *0.10 + (5 - 2.15)**2 *0.01\n",
    "variance"
   ]
  },
  {
   "cell_type": "markdown",
   "metadata": {},
   "source": [
    "#### Problem Statement 4:\n",
    "###### Let the continuous random variable D denote the diameter of the hole drilled in an aluminum sheet. \n",
    "#### The target diameter to be achieved is 12.5mm. \n",
    "#### Random disturbances in the process often result in inaccuracy.\n",
    "Historical data shows that the distribution of D can be modelled by the \n",
    "PDF (𝑑) = 20𝑒−20(𝑑−12.5), 𝑑 ≥ 12.5. \n",
    "#### If a part with diameter > 12.6 mm needs to be scrapped,what is the proportion of those parts? \n",
    "#### What is the CDF when the diameter is of 11 mm? \n",
    "#### What is your conclusion regarding the proportion of scraps?"
   ]
  },
  {
   "cell_type": "markdown",
   "metadata": {},
   "source": [
    "#### This is an example to Continuous Random variable \n",
    "$\\int_{-\\infty}^{\\infty}$ f(x) dx"
   ]
  },
  {
   "cell_type": "markdown",
   "metadata": {},
   "source": [
    "###### we know that area under curve = 1\n",
    "$\\int_a^b$    where a = 12.5 and b = 12.6"
   ]
  },
  {
   "cell_type": "code",
   "execution_count": 370,
   "metadata": {},
   "outputs": [],
   "source": [
    "#f(x) = 20𝑒−20(x−12.5)\n",
    "# on solving we got area b/w 12.5 and 12.6 = 0.865\n",
    "# Diameter greater than 12.6 need to be scrapped, so 1 - 0.865 = 0.135 "
   ]
  },
  {
   "cell_type": "code",
   "execution_count": 371,
   "metadata": {},
   "outputs": [],
   "source": [
    "# What is the CDF when the diameter is of 11 mm?\n",
    "# f(x) will become very very large, that tends to be an infinity"
   ]
  },
  {
   "cell_type": "markdown",
   "metadata": {},
   "source": [
    "##### Problem Statement 5:\n",
    "A company manufactures LED bulbs with a faulty rate of 30%. If I randomly select 6\n",
    "chosen LEDs, what is the probability of having 2 faulty LEDs in my sample?\n",
    "Calculate the average value of this process. Also evaluate the standard deviation\n",
    "associated with it."
   ]
  },
  {
   "cell_type": "markdown",
   "metadata": {},
   "source": [
    "#### Solution\n",
    "p = probability of fault = 0.3\n",
    "q = 1 - p = 0.7\n",
    "n = no of samples = 6\n",
    "Either select or not select, so this problem falls under Binomail Distribution's bucket\n",
    "\n",
    "    p(r) = nCr $p^r$ $q^n-r$    ---- (1)\n",
    "\n",
    "r = 2\n",
    "\n",
    "putthing these values in (1), we got\n",
    "p(2) = 0.11\n",
    "\n",
    "Mean = np = 1.8\n",
    "variance = npq = 1.26\n",
    "\n",
    "std = $\\sqrt{variance}$ = 1.1225"
   ]
  },
  {
   "cell_type": "markdown",
   "metadata": {},
   "source": [
    "#### Problem Statement 6:\n",
    "\n",
    "Gaurav and Barakha are both preparing for entrance exams. Gaurav attempts to\n",
    "solve 8 questions per day with a correction rate of 75%, while Barakha averages\n",
    "around 12 questions per day with a correction rate of 45%. \n",
    "\n",
    "What is the probability that each of them will solve 5 questions correctly? \n",
    "\n",
    "What happens in cases of 4 and 6 correct solutions? \n",
    "\n",
    "What do you infer from it? What are the two main governing factors affecting their ability to solve questions correctly? \n",
    "\n",
    "Give a pictorial representation of the same to validate your answer."
   ]
  },
  {
   "cell_type": "code",
   "execution_count": null,
   "metadata": {},
   "outputs": [],
   "source": []
  },
  {
   "cell_type": "markdown",
   "metadata": {},
   "source": [
    "#### Problem Statement 7:\n",
    "Customers arrive at a rate of 72 per hour to my shop. \n",
    "\n",
    "What is the probability of 𝑘 customers arriving in 4 minutes? \n",
    "\n",
    "a) 5 customers, \n",
    "\n",
    "b) not more than 3 customers, \n",
    "\n",
    "c) more than 3 customers. Give a pictorial representation of the same to validate your\n",
    "answer."
   ]
  },
  {
   "cell_type": "code",
   "execution_count": 351,
   "metadata": {},
   "outputs": [
    {
     "data": {
      "text/plain": [
       "0.17474768364388282"
      ]
     },
     "execution_count": 351,
     "metadata": {},
     "output_type": "execute_result"
    }
   ],
   "source": [
    "# rate = 72 per hour. This is nothing but an interval, so it falls into the category of Poisson's Distribution\n",
    "# 1.2 customer per min\n",
    "mean = 1.2 * 4 # in 4 minutes\n",
    "# poisson's distribution p(x) = e-m * (m)**x / x!\n",
    "p = math.exp(-4.8) * math.pow(4.8,5) / math.factorial(5)\n",
    "p"
   ]
  },
  {
   "cell_type": "markdown",
   "metadata": {},
   "source": [
    "### probability of arriving 5 customers per 4 mins  = 17.47%"
   ]
  },
  {
   "cell_type": "code",
   "execution_count": 353,
   "metadata": {},
   "outputs": [],
   "source": [
    "#(b) not more than 3 customers\n",
    "# p(x) = p(0) + p(1) + p(2) + p(3)\n",
    "p0 = math.exp(-4.8) * math.pow(4.8,0) / math.factorial(0)\n",
    "p1 = math.exp(-4.8) * math.pow(4.8,1) / math.factorial(1)\n",
    "p2 = math.exp(-4.8) * math.pow(4.8,2) / math.factorial(2)\n",
    "p3 = math.exp(-4.8) * math.pow(4.8,3) / math.factorial(3)"
   ]
  },
  {
   "cell_type": "code",
   "execution_count": 354,
   "metadata": {},
   "outputs": [
    {
     "data": {
      "text/plain": [
       "0.2942299164965641"
      ]
     },
     "execution_count": 354,
     "metadata": {},
     "output_type": "execute_result"
    }
   ],
   "source": [
    "p = p0 + p1 + p2 + p3\n",
    "p"
   ]
  },
  {
   "cell_type": "markdown",
   "metadata": {},
   "source": [
    "### probability of arriving not more than 3 customers per 4 mins = 29.42%"
   ]
  },
  {
   "cell_type": "code",
   "execution_count": 358,
   "metadata": {},
   "outputs": [
    {
     "data": {
      "text/plain": [
       "0.705770083503436"
      ]
     },
     "execution_count": 358,
     "metadata": {},
     "output_type": "execute_result"
    }
   ],
   "source": [
    "# more than 3 customers\n",
    "p4 = 1 - p\n",
    "p4"
   ]
  },
  {
   "cell_type": "markdown",
   "metadata": {},
   "source": [
    "#### probability of arriving more than 3 customers per 4 mins = 70.78%"
   ]
  },
  {
   "cell_type": "markdown",
   "metadata": {},
   "source": [
    "#### Problem Statement 8:\n",
    "\n",
    "I work as a data analyst in Aeon Learning Pvt. Ltd. After analyzing data, I make\n",
    "reports, where I have the efficiency of entering 77 words per minute with 6 errors per hour. \n",
    "\n",
    "What is the probability that I will commit 2 errors in a 455-word financial report?\n",
    "\n",
    "What happens when the no. of words increases/decreases (in case of 1000 words,255 words)?\n",
    "\n",
    "How is the 𝜆 affected?\n",
    "\n",
    "How does it influence the PMF? PMF means Probability Mass Function\n",
    "\n",
    "Give a pictorial representation of the same to validate your answer."
   ]
  },
  {
   "cell_type": "markdown",
   "metadata": {},
   "source": [
    "Given:\n",
    "\n",
    "77 words/min --- (1)\n",
    "\n",
    "error rate = 6 errors/hr   ---(2)\n",
    "\n",
    "From (1)\n",
    "\n",
    "77*60 = 4620 words/hr\n",
    "\n",
    "from (2)\n",
    "\n",
    "6 errors/hr = 6/4620 errors/words = 0.0013"
   ]
  },
  {
   "cell_type": "code",
   "execution_count": 360,
   "metadata": {},
   "outputs": [
    {
     "data": {
      "text/plain": [
       "0.09682651841129084"
      ]
     },
     "execution_count": 360,
     "metadata": {},
     "output_type": "execute_result"
    }
   ],
   "source": [
    "# What is the probability that I will commit 2 errors in a 455-word financial report?\n",
    "# in an interval of 455 words \n",
    "u = 455 * 0.0013\n",
    "p2 = math.exp(-u) * math.pow(u,2) / math.factorial(2)\n",
    "p2"
   ]
  },
  {
   "cell_type": "code",
   "execution_count": 368,
   "metadata": {},
   "outputs": [
    {
     "name": "stdout",
     "output_type": "stream",
     "text": [
      "0.23028936511374065 0.03944286463025426\n"
     ]
    }
   ],
   "source": [
    "# What happens when the no. of words increases/decreases (in case of 1000 words,255 words)?\n",
    "u = 1000 * 0.0013\n",
    "p1000 = math.exp(-u) * math.pow(u,2) / math.factorial(2)\n",
    "\n",
    "u = 255 * 0.0013\n",
    "p255 = math.exp(-u) * math.pow(u,2) / math.factorial(2)\n",
    "\n",
    "print(p1000, p255)"
   ]
  },
  {
   "cell_type": "code",
   "execution_count": 369,
   "metadata": {},
   "outputs": [],
   "source": [
    "# How is the 𝜆 affected?\n",
    "𝜆255 = 0.3315\n",
    "𝜆1000 = 1.3\n",
    "# As no of words increases, mean value of getting error introduced is more"
   ]
  },
  {
   "cell_type": "markdown",
   "metadata": {},
   "source": [
    "### Problem Statement 9:\n",
    "\n",
    "Let the continuous random variable D denote the diameter of the hole drilled in an aluminum sheet. The target diameter to be achieved is 12.5mm. \n",
    "\n",
    "Random disturbances in the process often result in inaccuracy.\n",
    "\n",
    "Historical data shows that the distribution of D can be modelled by the PDF, f(d) = 20e−20(d−12.5), d ≥ 12.5.\n",
    "\n",
    "If a part with diameter > 12.6 mm needs to be scrapped,\n",
    "\n",
    "what is the proportion of those parts? What is the CDF when the diameter is of 11 mm?\n",
    "\n",
    "What is the conclusion of this experiment?"
   ]
  },
  {
   "cell_type": "markdown",
   "metadata": {},
   "source": [
    "### This is already solved as a part of Problem 4"
   ]
  },
  {
   "cell_type": "markdown",
   "metadata": {},
   "source": [
    "## Problem Statement 10"
   ]
  },
  {
   "cell_type": "code",
   "execution_count": 372,
   "metadata": {},
   "outputs": [],
   "source": [
    "# Problem Statement 10:\n",
    "# Please compute the following:\n",
    "# a) P(Z > 1.26), . P(Z < −0.86), P(Z > −1.37), P(−1.25 < Z < 0.37), . P(Z ≤ −4.6)\n",
    "# b) Find the value 𝑧 such that 𝑃(𝑍 > 𝑧) = 0.05\n",
    "# c) Find the value of 𝑧 such that 𝑃(−𝑧 < 𝑍 < 𝑧) = 0.99\n",
    "\n",
    "# Solution\n",
    "\n",
    "# (a) From Z-score table, \n",
    "#z value of 1.26 = 0.8962\n",
    "# since, the area under curve = 1\n",
    "# P(Z > 1.26) = 1 - 0.8962 = 0.1038\n",
    "\n",
    "# z value of -0.86 = 0.8051\n",
    "# since, the area under curve = 1\n",
    "# P(Z < -0.86) = 1 - 0.8051 = 0.1949\n",
    "\n",
    "# z value of -1.25 = 0.1056\n",
    "# z value of 0.37  = 0.6443\n",
    "# since, the area under curve = 1\n",
    "# P(−1.25 < Z < 0.37) = p(z < 0.37) - p(z>-1.25)\n",
    "#   = 0.6443 - 0.1056 = 0.5387\n",
    "\n",
    "# P(Z ≤ −4.6)\n",
    "# the value of Z ranges for -3.4 to 3.4, \n",
    "# so, P(Z ≤ −4.6) ~1\n",
    "\n",
    "# b) Find the value 𝑧 such that 𝑃(𝑍 > 𝑧) = 0.05\n",
    "# Solution\n",
    "# 0.05 is the area of the curve. Its corresponding Z value from the table is 1.64\n",
    "# The value of z = 1.64\n",
    "\n",
    "# c) Find the value of 𝑧 such that 𝑃(−𝑧 < 𝑍 < 𝑧) = 0.99\n",
    "# Solution\n",
    "# 0.99 is the area of the curve. Its corresponding Z value from the table is 2.33\n",
    "# so -2.33 < z < 2.33"
   ]
  },
  {
   "cell_type": "markdown",
   "metadata": {},
   "source": [
    "#### Problem Statement 11:\n",
    "\n",
    "The current flow in a copper wire follow a normal distribution with a mean of 10 𝑚A and a variance of 4 (𝑚𝐴)2.\n",
    "\n",
    "What is the probability that a current measurement will exceed 13 𝑚𝐴? \n",
    "\n",
    "What is the probability that a current measurement is between 9 and 11mA? \n",
    "\n",
    "Determine the current measurement which has a probability of 0.98."
   ]
  },
  {
   "cell_type": "code",
   "execution_count": 377,
   "metadata": {},
   "outputs": [
    {
     "data": {
      "text/plain": [
       "0.06679999999999997"
      ]
     },
     "execution_count": 377,
     "metadata": {},
     "output_type": "execute_result"
    }
   ],
   "source": [
    "mean = 10\n",
    "𝜎 = math.sqrt(4)\n",
    "# It follows normal distribution\n",
    "# z = (x - mean)/𝜎\n",
    "z = (13 - 10)/𝜎\n",
    "# p(x>13) = p(z>1.5)\n",
    "# from z-table, p(1.5) = 0.9332\n",
    "# p(z>1.5) = 1 - 0.9332\n",
    "p = 1 - 0.9332\n",
    "p"
   ]
  },
  {
   "cell_type": "code",
   "execution_count": 378,
   "metadata": {},
   "outputs": [],
   "source": [
    "# What is the probability that a current measurement is between 9 and 11mA?\n",
    "# p(9 < x < 11) => p(-0.5 < z < 0.5)\n",
    "# p = p(z<0.5) - p(-0.5<z) \n",
    "# => p = 0.6915 - 0.3830 = 0.3830"
   ]
  },
  {
   "cell_type": "code",
   "execution_count": 379,
   "metadata": {},
   "outputs": [
    {
     "data": {
      "text/plain": [
       "14.16"
      ]
     },
     "execution_count": 379,
     "metadata": {},
     "output_type": "execute_result"
    }
   ],
   "source": [
    "# Determine the current measurement which has a probability of 0.98.\n",
    "# from z-table z=2.08 has the probability of 0.98\n",
    "# from standard normal value, we know\n",
    "# Let x being the current\n",
    "# z = (x - mean)/𝜎\n",
    "# => 2.08 = (x - 10)/2\n",
    "x = (2.08 * 2) + 10\n",
    "x"
   ]
  },
  {
   "cell_type": "markdown",
   "metadata": {},
   "source": [
    "### Problem Statement 12:\n",
    "The shaft in a piston has its diameter normally distributed with a mean of 0.2508 inch and a standard deviation of 0.0005 inch.\n",
    "\n",
    "The specifications of the shaft are 0.2500 ∓ 0.0015 inch. \n",
    "\n",
    "What proportion of shafts are in sync with the specifications? \n",
    "\n",
    "If the process is centered so that the mean is equal to the target value of 0.2500, what proportion of shafts conform to the new specifications? \n",
    "\n",
    "What is your conclusion from this experiment?"
   ]
  },
  {
   "cell_type": "code",
   "execution_count": 381,
   "metadata": {},
   "outputs": [
    {
     "data": {
      "text/plain": [
       "0.9192"
      ]
     },
     "execution_count": 381,
     "metadata": {},
     "output_type": "execute_result"
    }
   ],
   "source": [
    "# Given:\n",
    "# u = 0.2508 inch\n",
    "# 𝜎 = 0.0005 inch\n",
    "# (0.2500-0.0015) < x < (0.2500+0.0015) => 0.2485 < x < 0.2515\n",
    "# Standard normal value is given by\n",
    "# z = (x - mean)/𝜎\n",
    "z1 = (.2485 - .2508)/.0005\n",
    "z2 = (.2515 - .2508)/.0005\n",
    "\n",
    "# P ( 0.2485 < X <0.2515 ) = P(−4.6 <Z <1.4)\n",
    "#  p(z < 1.4) - p(z > -4.6)\n",
    "p = .9192 - 0\n",
    "p"
   ]
  },
  {
   "cell_type": "code",
   "execution_count": 382,
   "metadata": {},
   "outputs": [
    {
     "data": {
      "text/plain": [
       "0.9192"
      ]
     },
     "execution_count": 382,
     "metadata": {},
     "output_type": "execute_result"
    }
   ],
   "source": [
    "# What proportion of shafts are in sync with the specifications?\n",
    "0.9192"
   ]
  },
  {
   "cell_type": "code",
   "execution_count": 384,
   "metadata": {},
   "outputs": [
    {
     "data": {
      "text/plain": [
       "0.9974000000000001"
      ]
     },
     "execution_count": 384,
     "metadata": {},
     "output_type": "execute_result"
    }
   ],
   "source": [
    "# If the process is centered so that the mean is equal to the target value of 0.2500, what proportion of shafts conform to the new specifications? \n",
    "# u = 0.2500\n",
    "# x lies between 0.2485 < x < 0.2515\n",
    "# Standard normal value is given by\n",
    "# z = (x - mean)/𝜎\n",
    "z1 = (.2485 - .2500)/.0005\n",
    "z2 = (.2515 - .2500)/.0005\n",
    "\n",
    "# P ( 0.2485 < X <0.2515 ) = P(−3 <Z < 3)\n",
    "# p = p(z < 3) - p(z>-3)\n",
    "p = 0.9987 - 0.0013\n",
    "p"
   ]
  },
  {
   "cell_type": "markdown",
   "metadata": {},
   "source": [
    "##### Conclusion"
   ]
  },
  {
   "cell_type": "markdown",
   "metadata": {},
   "source": [
    "As the mean is moving towards the targeted value,the probability is moving towards 1"
   ]
  },
  {
   "cell_type": "code",
   "execution_count": null,
   "metadata": {},
   "outputs": [],
   "source": []
  }
 ],
 "metadata": {
  "kernelspec": {
   "display_name": "Python 3",
   "language": "python",
   "name": "python3"
  },
  "language_info": {
   "codemirror_mode": {
    "name": "ipython",
    "version": 3
   },
   "file_extension": ".py",
   "mimetype": "text/x-python",
   "name": "python",
   "nbconvert_exporter": "python",
   "pygments_lexer": "ipython3",
   "version": "3.6.9"
  }
 },
 "nbformat": 4,
 "nbformat_minor": 2
}
